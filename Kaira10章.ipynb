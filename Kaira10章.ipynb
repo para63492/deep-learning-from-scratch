{
  "nbformat": 4,
  "nbformat_minor": 0,
  "metadata": {
    "colab": {
      "name": "Kaira10章.ipynb",
      "provenance": [],
      "collapsed_sections": [],
      "authorship_tag": "ABX9TyOiFWFxNgsQuFbo7etepwsp",
      "include_colab_link": true
    },
    "kernelspec": {
      "name": "python3",
      "display_name": "Python 3"
    },
    "language_info": {
      "name": "python"
    }
  },
  "cells": [
    {
      "cell_type": "markdown",
      "metadata": {
        "id": "view-in-github",
        "colab_type": "text"
      },
      "source": [
        "<a href=\"https://colab.research.google.com/github/para63492/deep-learning-from-scratch/blob/master/Kaira10%E7%AB%A0.ipynb\" target=\"_parent\"><img src=\"https://colab.research.google.com/assets/colab-badge.svg\" alt=\"Open In Colab\"/></a>"
      ]
    },
    {
      "cell_type": "code",
      "execution_count": null,
      "metadata": {
        "colab": {
          "base_uri": "https://localhost:8080/"
        },
        "id": "tshdPjwibPUO",
        "outputId": "7f04bfae-532a-49bf-aec4-3873cc4a1c77"
      },
      "outputs": [
        {
          "output_type": "execute_result",
          "data": {
            "text/plain": [
              "1.4142135623730951"
            ]
          },
          "metadata": {},
          "execution_count": 1
        }
      ],
      "source": [
        "#ユークリッド距離\n",
        "import numpy as np\n",
        "x=np.array([1,1])\n",
        "y=np.array([2,2])\n",
        "\n",
        "np.linalg.norm(x-y)"
      ]
    },
    {
      "cell_type": "code",
      "source": [
        "#マンハッタン距離\n",
        "import numpy as np\n",
        "a=np.array([1,1])\n",
        "b=np.array([2,2])\n",
        "\n",
        "np.linalg.norm(a-b,ord=1)"
      ],
      "metadata": {
        "colab": {
          "base_uri": "https://localhost:8080/"
        },
        "id": "s89Mc0YcbeGx",
        "outputId": "374545da-2f82-4fe0-8c89-bf0868580b49"
      },
      "execution_count": null,
      "outputs": [
        {
          "output_type": "execute_result",
          "data": {
            "text/plain": [
              "2.0"
            ]
          },
          "metadata": {},
          "execution_count": 2
        }
      ]
    },
    {
      "cell_type": "code",
      "source": [
        "#チェビシェフ距離\n",
        "from scipy.spatial.distance import chebyshev\n",
        "a = np.array([1,1,1])\n",
        "b = np.array([1,2,4])\n",
        " \n",
        "chebyshev(a, b)"
      ],
      "metadata": {
        "colab": {
          "base_uri": "https://localhost:8080/"
        },
        "id": "MXj2JPA_cddF",
        "outputId": "eb18cea6-b1d8-47c8-cd38-2dd84c3113a5"
      },
      "execution_count": null,
      "outputs": [
        {
          "output_type": "execute_result",
          "data": {
            "text/plain": [
              "3"
            ]
          },
          "metadata": {},
          "execution_count": 4
        }
      ]
    },
    {
      "cell_type": "code",
      "source": [
        "from sklearn.datasets import load_iris\n",
        "iris = load_iris()"
      ],
      "metadata": {
        "id": "Nd6XU8c6mK-g"
      },
      "execution_count": null,
      "outputs": []
    },
    {
      "cell_type": "code",
      "source": [
        "#ライブラリーのインポート\n",
        "import numpy as np\n",
        "import pandas as pd\n",
        "from sklearn.cluster import KMeans\n",
        "from sklearn.preprocessing import StandardScaler\n",
        "import matplotlib as mpl\n",
        "import matplotlib.pyplot as plt\n",
        "import seaborn as sns\n",
        "from IPython.display import display\n",
        "%matplotlib inline\n",
        "sns.set_style('whitegrid')\n",
        "from scipy.cluster import hierarchy"
      ],
      "metadata": {
        "id": "93K0pqpGmwye"
      },
      "execution_count": null,
      "outputs": []
    },
    {
      "cell_type": "code",
      "source": [
        "df = pd.DataFrame(iris.data,columns=iris.feature_names)"
      ],
      "metadata": {
        "id": "05BO_Bf2m_JC"
      },
      "execution_count": null,
      "outputs": []
    },
    {
      "cell_type": "code",
      "source": [
        "iris_arr = np.array([df[\"sepal length (cm)\"].tolist(),\n",
        "                    df['sepal width (cm)'].tolist(),\n",
        "                    df['petal length (cm)'].tolist(),\n",
        "                    df['petal width (cm)'].tolist()])"
      ],
      "metadata": {
        "id": "d5Q8XVSXnaNn"
      },
      "execution_count": null,
      "outputs": []
    },
    {
      "cell_type": "code",
      "source": [
        "clusters=3\n",
        "\n",
        "pred = KMeans(n_clusters=clusters).fit_predict(iris_arr)\n",
        "pred"
      ],
      "metadata": {
        "colab": {
          "base_uri": "https://localhost:8080/"
        },
        "id": "TKjHMwtNoX_2",
        "outputId": "3d7de15c-c9e7-4faf-dac0-51d97618793f"
      },
      "execution_count": null,
      "outputs": [
        {
          "output_type": "execute_result",
          "data": {
            "text/plain": [
              "array([1, 1, 1, 1, 1, 1, 1, 1, 1, 1, 1, 1, 1, 1, 1, 1, 1, 1, 1, 1, 1, 1,\n",
              "       1, 1, 1, 1, 1, 1, 1, 1, 1, 1, 1, 1, 1, 1, 1, 1, 1, 1, 1, 1, 1, 1,\n",
              "       1, 1, 1, 1, 1, 1, 0, 0, 2, 0, 0, 0, 0, 0, 0, 0, 0, 0, 0, 0, 0, 0,\n",
              "       0, 0, 0, 0, 0, 0, 0, 0, 0, 0, 0, 2, 0, 0, 0, 0, 0, 0, 0, 0, 0, 0,\n",
              "       0, 0, 0, 0, 0, 0, 0, 0, 0, 0, 0, 0, 2, 0, 2, 2, 2, 2, 0, 2, 2, 2,\n",
              "       2, 2, 2, 0, 0, 2, 2, 2, 2, 0, 2, 0, 2, 0, 2, 2, 0, 0, 2, 2, 2, 2,\n",
              "       2, 0, 2, 2, 2, 2, 0, 2, 2, 2, 0, 2, 2, 2, 0, 2, 2, 0], dtype=int32)"
            ]
          },
          "metadata": {},
          "execution_count": 21
        }
      ]
    },
    {
      "cell_type": "code",
      "source": [
        "df['cluster_id']=pred\n",
        "df"
      ],
      "metadata": {
        "colab": {
          "base_uri": "https://localhost:8080/",
          "height": 423
        },
        "id": "rsXsvNStoZiN",
        "outputId": "ab68d413-ae49-4c2e-f1fc-dca9fe376d20"
      },
      "execution_count": null,
      "outputs": [
        {
          "output_type": "execute_result",
          "data": {
            "text/html": [
              "<div>\n",
              "<style scoped>\n",
              "    .dataframe tbody tr th:only-of-type {\n",
              "        vertical-align: middle;\n",
              "    }\n",
              "\n",
              "    .dataframe tbody tr th {\n",
              "        vertical-align: top;\n",
              "    }\n",
              "\n",
              "    .dataframe thead th {\n",
              "        text-align: right;\n",
              "    }\n",
              "</style>\n",
              "<table border=\"1\" class=\"dataframe\">\n",
              "  <thead>\n",
              "    <tr style=\"text-align: right;\">\n",
              "      <th></th>\n",
              "      <th>sepal length (cm)</th>\n",
              "      <th>sepal width (cm)</th>\n",
              "      <th>petal length (cm)</th>\n",
              "      <th>petal width (cm)</th>\n",
              "      <th>cluster_id</th>\n",
              "    </tr>\n",
              "  </thead>\n",
              "  <tbody>\n",
              "    <tr>\n",
              "      <th>0</th>\n",
              "      <td>5.1</td>\n",
              "      <td>3.5</td>\n",
              "      <td>1.4</td>\n",
              "      <td>0.2</td>\n",
              "      <td>1</td>\n",
              "    </tr>\n",
              "    <tr>\n",
              "      <th>1</th>\n",
              "      <td>4.9</td>\n",
              "      <td>3.0</td>\n",
              "      <td>1.4</td>\n",
              "      <td>0.2</td>\n",
              "      <td>1</td>\n",
              "    </tr>\n",
              "    <tr>\n",
              "      <th>2</th>\n",
              "      <td>4.7</td>\n",
              "      <td>3.2</td>\n",
              "      <td>1.3</td>\n",
              "      <td>0.2</td>\n",
              "      <td>1</td>\n",
              "    </tr>\n",
              "    <tr>\n",
              "      <th>3</th>\n",
              "      <td>4.6</td>\n",
              "      <td>3.1</td>\n",
              "      <td>1.5</td>\n",
              "      <td>0.2</td>\n",
              "      <td>1</td>\n",
              "    </tr>\n",
              "    <tr>\n",
              "      <th>4</th>\n",
              "      <td>5.0</td>\n",
              "      <td>3.6</td>\n",
              "      <td>1.4</td>\n",
              "      <td>0.2</td>\n",
              "      <td>1</td>\n",
              "    </tr>\n",
              "    <tr>\n",
              "      <th>...</th>\n",
              "      <td>...</td>\n",
              "      <td>...</td>\n",
              "      <td>...</td>\n",
              "      <td>...</td>\n",
              "      <td>...</td>\n",
              "    </tr>\n",
              "    <tr>\n",
              "      <th>145</th>\n",
              "      <td>6.7</td>\n",
              "      <td>3.0</td>\n",
              "      <td>5.2</td>\n",
              "      <td>2.3</td>\n",
              "      <td>2</td>\n",
              "    </tr>\n",
              "    <tr>\n",
              "      <th>146</th>\n",
              "      <td>6.3</td>\n",
              "      <td>2.5</td>\n",
              "      <td>5.0</td>\n",
              "      <td>1.9</td>\n",
              "      <td>0</td>\n",
              "    </tr>\n",
              "    <tr>\n",
              "      <th>147</th>\n",
              "      <td>6.5</td>\n",
              "      <td>3.0</td>\n",
              "      <td>5.2</td>\n",
              "      <td>2.0</td>\n",
              "      <td>2</td>\n",
              "    </tr>\n",
              "    <tr>\n",
              "      <th>148</th>\n",
              "      <td>6.2</td>\n",
              "      <td>3.4</td>\n",
              "      <td>5.4</td>\n",
              "      <td>2.3</td>\n",
              "      <td>2</td>\n",
              "    </tr>\n",
              "    <tr>\n",
              "      <th>149</th>\n",
              "      <td>5.9</td>\n",
              "      <td>3.0</td>\n",
              "      <td>5.1</td>\n",
              "      <td>1.8</td>\n",
              "      <td>0</td>\n",
              "    </tr>\n",
              "  </tbody>\n",
              "</table>\n",
              "<p>150 rows × 5 columns</p>\n",
              "</div>"
            ],
            "text/plain": [
              "     sepal length (cm)  sepal width (cm)  ...  petal width (cm)  cluster_id\n",
              "0                  5.1               3.5  ...               0.2           1\n",
              "1                  4.9               3.0  ...               0.2           1\n",
              "2                  4.7               3.2  ...               0.2           1\n",
              "3                  4.6               3.1  ...               0.2           1\n",
              "4                  5.0               3.6  ...               0.2           1\n",
              "..                 ...               ...  ...               ...         ...\n",
              "145                6.7               3.0  ...               2.3           2\n",
              "146                6.3               2.5  ...               1.9           0\n",
              "147                6.5               3.0  ...               2.0           2\n",
              "148                6.2               3.4  ...               2.3           2\n",
              "149                5.9               3.0  ...               1.8           0\n",
              "\n",
              "[150 rows x 5 columns]"
            ]
          },
          "metadata": {},
          "execution_count": 22
        }
      ]
    },
    {
      "cell_type": "code",
      "source": [
        "df['cluster_id'].value_counts()"
      ],
      "metadata": {
        "colab": {
          "base_uri": "https://localhost:8080/"
        },
        "id": "F0-64tiBo4dk",
        "outputId": "1aba2aca-916d-4f10-8cea-30584ed8756d"
      },
      "execution_count": null,
      "outputs": [
        {
          "output_type": "execute_result",
          "data": {
            "text/plain": [
              "0    62\n",
              "1    50\n",
              "2    38\n",
              "Name: cluster_id, dtype: int64"
            ]
          },
          "metadata": {},
          "execution_count": 24
        }
      ]
    },
    {
      "cell_type": "code",
      "source": [
        "clusterinfo = pd.DataFrame()\n",
        "for i in range(clusters):\n",
        "    clusterinfo['cluster' + str(i)] = df[df['cluster_id'] == i].mean()\n",
        "clusterinfo = clusterinfo.drop('cluster_id')\n",
        "\n",
        "clusterinfo"
      ],
      "metadata": {
        "colab": {
          "base_uri": "https://localhost:8080/",
          "height": 174
        },
        "id": "Diyl1sX3qMb3",
        "outputId": "b047b9bf-f2aa-44fc-be3b-25a20bc1056c"
      },
      "execution_count": null,
      "outputs": [
        {
          "output_type": "execute_result",
          "data": {
            "text/html": [
              "<div>\n",
              "<style scoped>\n",
              "    .dataframe tbody tr th:only-of-type {\n",
              "        vertical-align: middle;\n",
              "    }\n",
              "\n",
              "    .dataframe tbody tr th {\n",
              "        vertical-align: top;\n",
              "    }\n",
              "\n",
              "    .dataframe thead th {\n",
              "        text-align: right;\n",
              "    }\n",
              "</style>\n",
              "<table border=\"1\" class=\"dataframe\">\n",
              "  <thead>\n",
              "    <tr style=\"text-align: right;\">\n",
              "      <th></th>\n",
              "      <th>cluster0</th>\n",
              "      <th>cluster1</th>\n",
              "      <th>cluster2</th>\n",
              "    </tr>\n",
              "  </thead>\n",
              "  <tbody>\n",
              "    <tr>\n",
              "      <th>sepal length (cm)</th>\n",
              "      <td>5.901613</td>\n",
              "      <td>5.006</td>\n",
              "      <td>6.850000</td>\n",
              "    </tr>\n",
              "    <tr>\n",
              "      <th>sepal width (cm)</th>\n",
              "      <td>2.748387</td>\n",
              "      <td>3.428</td>\n",
              "      <td>3.073684</td>\n",
              "    </tr>\n",
              "    <tr>\n",
              "      <th>petal length (cm)</th>\n",
              "      <td>4.393548</td>\n",
              "      <td>1.462</td>\n",
              "      <td>5.742105</td>\n",
              "    </tr>\n",
              "    <tr>\n",
              "      <th>petal width (cm)</th>\n",
              "      <td>1.433871</td>\n",
              "      <td>0.246</td>\n",
              "      <td>2.071053</td>\n",
              "    </tr>\n",
              "  </tbody>\n",
              "</table>\n",
              "</div>"
            ],
            "text/plain": [
              "                   cluster0  cluster1  cluster2\n",
              "sepal length (cm)  5.901613     5.006  6.850000\n",
              "sepal width (cm)   2.748387     3.428  3.073684\n",
              "petal length (cm)  4.393548     1.462  5.742105\n",
              "petal width (cm)   1.433871     0.246  2.071053"
            ]
          },
          "metadata": {},
          "execution_count": 25
        }
      ]
    },
    {
      "cell_type": "code",
      "source": [
        "my_plot = clusterinfo.T.plot(kind='bar', stacked=True, title=\"iris_clusters\")\n",
        "my_plot.set_xticklabels(my_plot.xaxis.get_majorticklabels(), rotation=0)"
      ],
      "metadata": {
        "id": "O_O3zX_YqQ-k",
        "outputId": "c9bc6537-2c90-4939-deb7-da39f9c8aced",
        "colab": {
          "base_uri": "https://localhost:8080/",
          "height": 298
        }
      },
      "execution_count": null,
      "outputs": [
        {
          "output_type": "execute_result",
          "data": {
            "text/plain": [
              "[Text(0, 0, 'cluster0'), Text(0, 0, 'cluster1'), Text(0, 0, 'cluster2')]"
            ]
          },
          "metadata": {},
          "execution_count": 26
        },
        {
          "output_type": "display_data",
          "data": {
            "image/png": "[encoded data removed]",
            "text/plain": [
              "<Figure size 432x288 with 1 Axes>"
            ]
          },
          "metadata": {
            "needs_background": "light"
          }
        }
      ]
    },
    {
      "cell_type": "code",
      "source": [
        "# データ読み込み\n",
        "iris = load_iris()\n",
        "iris.keys()\n",
        "\n",
        "df_iris = iris.data\n",
        "df_target = iris.target\n",
        "target_names = iris.target_names\n",
        "df_labels = target_names[df_target]\n",
        "\n",
        "# データの正規化（平均0, 標準偏差1）\n",
        "scaler = StandardScaler()\n",
        "df_iris_std = scaler.fit_transform(df_iris)"
      ],
      "metadata": {
        "id": "Xk6qeWLM09AL"
      },
      "execution_count": null,
      "outputs": []
    },
    {
      "cell_type": "code",
      "source": [
        "# 距離計算\n",
        "dist = hierarchy.distance.pdist(df_iris_std, metric='euclidean')\n",
        "\n",
        "# クラスタリング\n",
        "linkage = hierarchy.linkage(dist, method='ward')\n",
        "\n",
        "# デンドログラム\n",
        "fig, ax = plt.subplots(figsize=(5,13))\n",
        "ax = hierarchy.dendrogram(Z=linkage,\n",
        "                orientation='right',\n",
        "                )\n",
        "fig.show()"
      ],
      "metadata": {
        "colab": {
          "base_uri": "https://localhost:8080/",
          "height": 755
        },
        "id": "ABrdh8i11fZN",
        "outputId": "bf7889f9-4eab-4b17-b83d-b33513013951"
      },
      "execution_count": null,
      "outputs": [
        {
          "output_type": "display_data",
          "data": {
            "image/png": "[encoded data removed]",
            "text/plain": [
              "<Figure size 360x936 with 1 Axes>"
            ]
          },
          "metadata": {}
        }
      ]
    },
    {
      "cell_type": "code",
      "source": [
        "x1 = np.random.normal(loc=0.5, scale=1 , size =100).reshape(-1,1)\n",
        "x2 = np.random.normal(loc=10, scale=2 , size =100).reshape(-1,1)\n",
        "x3 = np.random.normal(loc=0, scale=3 , size =100).reshape(-1,1)\n",
        "x = np.concatenate([x1 , x2 , x3])\n",
        "sns.distplot( x )\n",
        "plt.title(\"Gaussian Mixture Model\")"
      ],
      "metadata": {
        "colab": {
          "base_uri": "https://localhost:8080/",
          "height": 352
        },
        "id": "yY26sSjFHXEz",
        "outputId": "faef224f-6871-4366-a166-40252323a27f"
      },
      "execution_count": null,
      "outputs": [
        {
          "output_type": "stream",
          "name": "stderr",
          "text": [
            "/usr/local/lib/python3.7/dist-packages/seaborn/distributions.py:2619: FutureWarning: `distplot` is a deprecated function and will be removed in a future version. Please adapt your code to use either `displot` (a figure-level function with similar flexibility) or `histplot` (an axes-level function for histograms).\n",
            "  warnings.warn(msg, FutureWarning)\n"
          ]
        },
        {
          "output_type": "execute_result",
          "data": {
            "text/plain": [
              "Text(0.5, 1.0, 'Gaussian Mixture Model')"
            ]
          },
          "metadata": {},
          "execution_count": 2
        },
        {
          "output_type": "display_data",
          "data": {
            "image/png": "[encoded data removed]",
            "text/plain": [
              "<Figure size 432x288 with 1 Axes>"
            ]
          },
          "metadata": {
            "needs_background": "light"
          }
        }
      ]
    },
    {
      "cell_type": "code",
      "source": [
        "def Gaus(x,m, s): #正規分布の値を取得\n",
        "    g = np.exp( - pow((x-m), 2) /(2*s) )/np.sqrt(2*np.pi * s )\n",
        "    return g\n",
        "\n",
        "def calc_gamma(x, pi, mu, sig):#事後分布の計算\n",
        "    gam = pi*Gaus(x,mu,sig)\n",
        "    gam/= np.sum(gam, axis=1).reshape(len(x),1)\n",
        "    return gam\n",
        "\n",
        "def update_parmas(gamma, x, pi, mu, sig):#パラメーターの更新式\n",
        "    N_k = np.sum(gamma, axis=0)\n",
        "    N = np.sum(N_k)\n",
        "    mu_k = np.sum(x*gamma, axis=0 ) /N_k\n",
        "    sig_k = np.sum(gamma* pow(x-mu, 2), axis=0) /N_k\n",
        "    pi_k = N_k/N\n",
        "    return pi_k , mu_k, sig_k \n",
        "\n",
        "def iteration(x,mu,sig,pi, I=100, e=0.01):#ε以下になるか、100回計算するまで尤度を更新する関数\n",
        "    LF=0   \n",
        "    for i in range(I):\n",
        "        gamma = calc_gamma(x, pi, mu, sig)\n",
        "        LF_new =np.sum(np.log(np.sum(pi*Gaus(x,mu,sig),axis=1 )) )\n",
        "        ch = LF_new - LF\n",
        "        print(\"LF ={} . change = {}\".format(LF_new, ch))\n",
        "        if np.abs(ch) < e:\n",
        "            print(\"Iteration is finished {} iter. \".format(i+1))\n",
        "            break\n",
        "        LF=LF_new\n",
        "        pi, mu, sig = update_parmas(gamma, x, pi, mu, sig)\n",
        "\n",
        "    return pi, mu, sig   "
      ],
      "metadata": {
        "id": "9VSfABtrHZDc"
      },
      "execution_count": null,
      "outputs": []
    },
    {
      "cell_type": "code",
      "source": [
        "mu =np.array([0,10,3])\n",
        "sig=np.array([1, 5, 10])\n",
        "pi=np.array([0.1,0.4, 0.5])\n",
        "pi, mu, sig = iteration(x,mu,sig, pi, I=100)"
      ],
      "metadata": {
        "colab": {
          "base_uri": "https://localhost:8080/"
        },
        "id": "f3M7hairHq30",
        "outputId": "537a6b0f-8341-43e8-85df-98332083594e"
      },
      "execution_count": null,
      "outputs": [
        {
          "output_type": "stream",
          "name": "stdout",
          "text": [
            "LF =-894.5099737779672 . change = -894.5099737779672\n",
            "LF =-840.2810150044231 . change = 54.228958773544036\n",
            "LF =-833.1289942637972 . change = 7.1520207406259715\n",
            "LF =-830.2395743255455 . change = 2.889419938251649\n",
            "LF =-828.66105047735 . change = 1.5785238481954593\n",
            "LF =-827.7484215210957 . change = 0.9126289562543661\n",
            "LF =-827.1974833523338 . change = 0.5509381687618315\n",
            "LF =-826.8523268742933 . change = 0.34515647804050786\n",
            "LF =-826.6290531728623 . change = 0.22327370143102598\n",
            "LF =-826.4805107115351 . change = 0.14854246132722437\n",
            "LF =-826.3791662127587 . change = 0.10134449877637053\n",
            "LF =-826.3084167051688 . change = 0.07074950758988052\n",
            "LF =-826.2579748337018 . change = 0.050441871467000965\n",
            "LF =-826.2213118938265 . change = 0.03666293987532754\n",
            "LF =-826.1941923709926 . change = 0.027119522833913834\n",
            "LF =-826.1738111517558 . change = 0.020381219236810466\n",
            "LF =-826.1582738360723 . change = 0.01553731568344574\n",
            "LF =-826.1462771929016 . change = 0.011996643170732568\n",
            "LF =-826.1369088513457 . change = 0.00936834155595534\n",
            "Iteration is finished 19 iter. \n"
          ]
        }
      ]
    },
    {
      "cell_type": "code",
      "source": [
        "print(pi, mu, np.sqrt(sig) )"
      ],
      "metadata": {
        "colab": {
          "base_uri": "https://localhost:8080/"
        },
        "id": "Ei-qKt1YHvEm",
        "outputId": "14e7bbd6-eabd-42f4-ea66-ffda53651929"
      },
      "execution_count": null,
      "outputs": [
        {
          "output_type": "stream",
          "name": "stdout",
          "text": [
            "[0.37372422 0.33397642 0.29229937] [2.14562714e-01 9.77804691e+00 3.67765161e-03] [1.01009586 2.26097792 3.26853728]\n"
          ]
        }
      ]
    },
    {
      "cell_type": "code",
      "source": [
        "y0 = np.random.normal(loc=mu[0], scale=np.sqrt(sig)[0] , size =int(300*pi[0]) ).reshape(-1,1)\n",
        "y1 = np.random.normal(loc=mu[1], scale=np.sqrt(sig)[1] , size =int(300*pi[1]) ).reshape(-1,1)\n",
        "y2 = np.random.normal(loc=mu[2], scale=np.sqrt(sig)[2] , size =int(300*pi[2]) ).reshape(-1,1)\n",
        "y=np.concatenate([y0, y1, y2])\n",
        "sns.distplot(y)\n",
        "plt.title(\"Predicted GMM\")"
      ],
      "metadata": {
        "colab": {
          "base_uri": "https://localhost:8080/",
          "height": 352
        },
        "id": "Z5pCkYC6H8LX",
        "outputId": "55574bc3-4ca4-494c-98a7-181b5075ac2d"
      },
      "execution_count": null,
      "outputs": [
        {
          "output_type": "stream",
          "name": "stderr",
          "text": [
            "/usr/local/lib/python3.7/dist-packages/seaborn/distributions.py:2619: FutureWarning: `distplot` is a deprecated function and will be removed in a future version. Please adapt your code to use either `displot` (a figure-level function with similar flexibility) or `histplot` (an axes-level function for histograms).\n",
            "  warnings.warn(msg, FutureWarning)\n"
          ]
        },
        {
          "output_type": "execute_result",
          "data": {
            "text/plain": [
              "Text(0.5, 1.0, 'Predicted GMM')"
            ]
          },
          "metadata": {},
          "execution_count": 7
        },
        {
          "output_type": "display_data",
          "data": {
            "image/png": "[encoded data removed]",
            "text/plain": [
              "<Figure size 432x288 with 1 Axes>"
            ]
          },
          "metadata": {
            "needs_background": "light"
          }
        }
      ]
    },
    {
      "cell_type": "markdown",
      "source": [
        "EMアルゴリズムのpythonによる実装と一般化\n",
        "https://masamunetogetoge.com/em-algorithm-python\n"
      ],
      "metadata": {
        "id": "_h5OwtDZISI7"
      }
    }
  ]
}